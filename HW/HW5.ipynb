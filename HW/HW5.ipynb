{
  "nbformat": 4,
  "nbformat_minor": 0,
  "metadata": {
    "colab": {
      "name": "HW5.ipynb",
      "provenance": [],
      "collapsed_sections": []
    },
    "kernelspec": {
      "name": "python3",
      "display_name": "Python 3"
    },
    "language_info": {
      "name": "python"
    }
  },
  "cells": [
    {
      "cell_type": "markdown",
      "metadata": {
        "id": "ffZtaRz9lIno"
      },
      "source": [
        "#HW5\n"
      ]
    },
    {
      "cell_type": "code",
      "metadata": {
        "id": "KbTUcNdskl95"
      },
      "source": [
        "import numpy as np\n",
        "import matplotlib.pyplot as plt\n",
        "import numpy.random as rd"
      ],
      "execution_count": 1,
      "outputs": []
    },
    {
      "cell_type": "code",
      "metadata": {
        "id": "EjVgOEWxlr-X"
      },
      "source": [
        "GAMMA = 1.0\n",
        "ALPHA = 0.1\n",
        "EPSILON = 0.3\n",
        "WORLD_SIZE = [5,10]\n",
        "SWAMPS = [[0,i]for i in range(10)]\n",
        "S0 = [1, 0]\n",
        "ST = [1, 9]\n",
        "# left, up, right, down\n",
        "ACTIONS = [[0, -1], [-1, 0], [0, 1], [1, 0]] # left, up, right, down\n"
      ],
      "execution_count": 2,
      "outputs": []
    },
    {
      "cell_type": "code",
      "metadata": {
        "id": "FxfMZR4QnMPu"
      },
      "source": [
        "def step(state, action):\n",
        "  state_n = np.array(state) + np.array(action)\n",
        "  state_n = [np.clip(state_n[0],0,4),np.clip(state_n[1],0,9)]\n",
        "  reward = -100 if state_n in SWAMPS else -1\n",
        "  return [state_n, reward]"
      ],
      "execution_count": 3,
      "outputs": []
    },
    {
      "cell_type": "code",
      "metadata": {
        "id": "hFGDY-Aso4Rc"
      },
      "source": [
        "def chooseAction(state, qtable, epsilon):\n",
        "  if rd.rand()>=epsilon:\n",
        "    return np.argmax(qtable[state[0],state[1]])\n",
        "  else:\n",
        "    return rd.randint(4)"
      ],
      "execution_count": 4,
      "outputs": []
    },
    {
      "cell_type": "code",
      "metadata": {
        "id": "1YUCxCiYqffh"
      },
      "source": [
        "def Q_learning():\n",
        "  qtable = rd.rand(5,10,4)\n",
        "  returns = []\n",
        "  for episode in range(1000):\n",
        "    state = S0\n",
        "    G = 0\n",
        "    while state != ST:\n",
        "      ######## YOUR CODE HERE ########\n",
        "     \n",
        "\n",
        "\n",
        "\n",
        "\n",
        "\n",
        "      ####################################\n",
        "      \n",
        "    returns.append(G)\n",
        "    \n",
        "  return returns"
      ],
      "execution_count": 5,
      "outputs": []
    },
    {
      "cell_type": "code",
      "metadata": {
        "id": "Jl60uy_3uFeO"
      },
      "source": [
        "def sarsa():\n",
        "  qtable = rd.rand(5,10,4)\n",
        "  returns = []\n",
        "  for episode in range(1000):\n",
        "    state = S0\n",
        "    action = chooseAction(state, qtable, EPSILON)\n",
        "    G = 0\n",
        "    while state != ST:\n",
        "      \n",
        "      ######## YOUR CODE HERE ########\n",
        "      next_state, reward = step(state, action)\n",
        "      next_action = chooseAction(next_state, qtable, EPSILON)\n",
        "      next_val = qtable[next_state[0], next_state[1], next_action]\n",
        "      update_val = ALPHA * (G +  next_val - qtable[state[0], state[1], action])\n",
        "\n",
        "\n",
        "\n",
        "      ####################################\n",
        "      \n",
        "    returns.append(G)\n",
        "    \n",
        "  return returns"
      ],
      "execution_count": 6,
      "outputs": []
    },
    {
      "cell_type": "code",
      "metadata": {
        "id": "YVrRqoBLtp75"
      },
      "source": [
        "def averages(a):\n",
        "  return np.array([np.average(a[:i+1]) for i in range(len(a))])"
      ],
      "execution_count": 7,
      "outputs": []
    },
    {
      "cell_type": "code",
      "metadata": {
        "id": "nYOQvRkktqj4"
      },
      "source": [
        "plt.plot(np.average([averages(Q_learning()) for i in range(30)],axis=0),label='q_learning')\n",
        "plt.plot(np.average([averages(sarsa()) for i in range(30)],axis=0),label='sarsa')\n",
        "plt.ylim(-500, 0)\n",
        "plt.legend()\n",
        "plt.show()"
      ],
      "execution_count": null,
      "outputs": []
    }
  ]
}